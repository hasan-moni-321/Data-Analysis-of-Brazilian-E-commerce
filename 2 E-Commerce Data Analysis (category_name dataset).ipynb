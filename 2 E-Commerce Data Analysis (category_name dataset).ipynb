{
 "cells": [
  {
   "cell_type": "code",
   "execution_count": 3,
   "metadata": {},
   "outputs": [],
   "source": [
    "import numpy as np\n",
    "import pandas as pd\n",
    "import seaborn as sns\n",
    "import matplotlib.pyplot as plt\n"
   ]
  },
  {
   "cell_type": "markdown",
   "metadata": {},
   "source": [
    "# Reading dataset"
   ]
  },
  {
   "cell_type": "code",
   "execution_count": 4,
   "metadata": {},
   "outputs": [],
   "source": [
    "category_name = pd.read_csv('/home/hasan/DATA SET/brazilian e-commerce data/1 product_category_name_translation.csv')\n"
   ]
  },
  {
   "cell_type": "code",
   "execution_count": 5,
   "metadata": {},
   "outputs": [
    {
     "data": {
      "text/html": [
       "<div>\n",
       "<style scoped>\n",
       "    .dataframe tbody tr th:only-of-type {\n",
       "        vertical-align: middle;\n",
       "    }\n",
       "\n",
       "    .dataframe tbody tr th {\n",
       "        vertical-align: top;\n",
       "    }\n",
       "\n",
       "    .dataframe thead th {\n",
       "        text-align: right;\n",
       "    }\n",
       "</style>\n",
       "<table border=\"1\" class=\"dataframe\">\n",
       "  <thead>\n",
       "    <tr style=\"text-align: right;\">\n",
       "      <th></th>\n",
       "      <th>product_category_name</th>\n",
       "      <th>product_category_name_english</th>\n",
       "    </tr>\n",
       "  </thead>\n",
       "  <tbody>\n",
       "    <tr>\n",
       "      <th>0</th>\n",
       "      <td>beleza_saude</td>\n",
       "      <td>health_beauty</td>\n",
       "    </tr>\n",
       "    <tr>\n",
       "      <th>1</th>\n",
       "      <td>informatica_acessorios</td>\n",
       "      <td>computers_accessories</td>\n",
       "    </tr>\n",
       "    <tr>\n",
       "      <th>2</th>\n",
       "      <td>automotivo</td>\n",
       "      <td>auto</td>\n",
       "    </tr>\n",
       "    <tr>\n",
       "      <th>3</th>\n",
       "      <td>cama_mesa_banho</td>\n",
       "      <td>bed_bath_table</td>\n",
       "    </tr>\n",
       "    <tr>\n",
       "      <th>4</th>\n",
       "      <td>moveis_decoracao</td>\n",
       "      <td>furniture_decor</td>\n",
       "    </tr>\n",
       "  </tbody>\n",
       "</table>\n",
       "</div>"
      ],
      "text/plain": [
       "    product_category_name product_category_name_english\n",
       "0            beleza_saude                 health_beauty\n",
       "1  informatica_acessorios         computers_accessories\n",
       "2              automotivo                          auto\n",
       "3         cama_mesa_banho                bed_bath_table\n",
       "4        moveis_decoracao               furniture_decor"
      ]
     },
     "execution_count": 5,
     "metadata": {},
     "output_type": "execute_result"
    }
   ],
   "source": [
    "category_name.head()"
   ]
  },
  {
   "cell_type": "code",
   "execution_count": 6,
   "metadata": {},
   "outputs": [
    {
     "data": {
      "text/plain": [
       "(71, 2)"
      ]
     },
     "execution_count": 6,
     "metadata": {},
     "output_type": "execute_result"
    }
   ],
   "source": [
    "category_name.shape"
   ]
  },
  {
   "cell_type": "code",
   "execution_count": null,
   "metadata": {},
   "outputs": [],
   "source": []
  },
  {
   "cell_type": "markdown",
   "metadata": {},
   "source": [
    "### product_category_name_english column"
   ]
  },
  {
   "cell_type": "code",
   "execution_count": 7,
   "metadata": {},
   "outputs": [
    {
     "data": {
      "text/plain": [
       "71"
      ]
     },
     "execution_count": 7,
     "metadata": {},
     "output_type": "execute_result"
    }
   ],
   "source": [
    "category_name['product_category_name_english'].nunique()"
   ]
  },
  {
   "cell_type": "code",
   "execution_count": 11,
   "metadata": {},
   "outputs": [
    {
     "data": {
      "text/plain": [
       "0                               health_beauty\n",
       "1                       computers_accessories\n",
       "2                                        auto\n",
       "3                              bed_bath_table\n",
       "4                             furniture_decor\n",
       "5                              sports_leisure\n",
       "6                                   perfumery\n",
       "7                                  housewares\n",
       "8                                   telephony\n",
       "9                               watches_gifts\n",
       "10                                 food_drink\n",
       "11                                       baby\n",
       "12                                 stationery\n",
       "13                     tablets_printing_image\n",
       "14                                       toys\n",
       "15                            fixed_telephony\n",
       "16                               garden_tools\n",
       "17                   fashion_bags_accessories\n",
       "18                           small_appliances\n",
       "19                             consoles_games\n",
       "20                                      audio\n",
       "21                              fashion_shoes\n",
       "22                                 cool_stuff\n",
       "23                        luggage_accessories\n",
       "24                           air_conditioning\n",
       "25            construction_tools_construction\n",
       "26    kitchen_dining_laundry_garden_furniture\n",
       "27                   costruction_tools_garden\n",
       "28                      fashion_male_clothing\n",
       "29                                   pet_shop\n",
       "30                           office_furniture\n",
       "31                               market_place\n",
       "32                                electronics\n",
       "33                            home_appliances\n",
       "34                             party_supplies\n",
       "35                               home_confort\n",
       "36                    costruction_tools_tools\n",
       "37                 agro_industry_and_commerce\n",
       "38          furniture_mattress_and_upholstery\n",
       "39                            books_technical\n",
       "40                          home_construction\n",
       "41                        musical_instruments\n",
       "42                      furniture_living_room\n",
       "43                  construction_tools_lights\n",
       "44             industry_commerce_and_business\n",
       "45                                       food\n",
       "46                                        art\n",
       "47                          furniture_bedroom\n",
       "48                     books_general_interest\n",
       "49                  construction_tools_safety\n",
       "50                    fashion_underwear_beach\n",
       "51                              fashion_sport\n",
       "52                     signaling_and_security\n",
       "53                                  computers\n",
       "54                         christmas_supplies\n",
       "55                     fashio_female_clothing\n",
       "56                          home_appliances_2\n",
       "57                             books_imported\n",
       "58                                     drinks\n",
       "59                                 cine_photo\n",
       "60                                 la_cuisine\n",
       "61                                      music\n",
       "62                             home_comfort_2\n",
       "63      small_appliances_home_oven_and_coffee\n",
       "64                          cds_dvds_musicals\n",
       "65                               dvds_blu_ray\n",
       "66                                    flowers\n",
       "67                      arts_and_craftmanship\n",
       "68                        diapers_and_hygiene\n",
       "69                  fashion_childrens_clothes\n",
       "70                      security_and_services\n",
       "Name: product_category_name_english, dtype: object"
      ]
     },
     "execution_count": 11,
     "metadata": {},
     "output_type": "execute_result"
    }
   ],
   "source": [
    "pd.set_option('display.max_rows', 100)\n",
    "category_name['product_category_name_english'].head(71)"
   ]
  },
  {
   "cell_type": "code",
   "execution_count": null,
   "metadata": {},
   "outputs": [],
   "source": []
  }
 ],
 "metadata": {
  "kernelspec": {
   "display_name": "Python 3",
   "language": "python",
   "name": "python3"
  },
  "language_info": {
   "codemirror_mode": {
    "name": "ipython",
    "version": 3
   },
   "file_extension": ".py",
   "mimetype": "text/x-python",
   "name": "python",
   "nbconvert_exporter": "python",
   "pygments_lexer": "ipython3",
   "version": "3.7.4"
  }
 },
 "nbformat": 4,
 "nbformat_minor": 2
}
